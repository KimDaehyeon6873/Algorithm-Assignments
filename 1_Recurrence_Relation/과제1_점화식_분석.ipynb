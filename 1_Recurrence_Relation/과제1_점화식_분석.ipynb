# 과제1: 점화식 분석 방법과 연산 유형별 점화식 조사하기
## 201935607 전기공학과 김대현


---


# 1.다양한 점화식 분석 방법에 대해 조사하기(종류, 설명, 예제코드)


---


### 1) 단순 전개법 (Iteration Method)
- 점화식을 여러 번 전개하여 일반항을 유도하는 방법. 
- 재귀 함수의 반복적인 호출을 따라가면서 직접 계산하여 결과를 도출한다. 
#선형 점화식 (T(n)=T(n-1)+3)을 이용한 시간복잡도 계산
def linear_recurrence(n):
    if n == 0:
        return 0
    else:
        return linear_recurrence(n-1) + 3

#시간복잡도 계산
print(linear_recurrence(10)) #T(10)=T(9)+3=...=T(0)+3*10=30
print(linear_recurrence(100)) #T(100)=T(99)+3=...=T(0)+3*100=300
print(linear_recurrence(1000)) #T(1000)=T(999)+3=...=T(0)+3*1000=3000


#시간복잡도 계산 결과
#T(n)=3n
#O(n)=n
#O(n)=O(3n)
#O(n)=O(n)

#시간복잡도 계산 결과는 O(n)이다.
### 2) 특성 방정식법 (Characteristic Equation Method)
- 특성 방정식을 이용하여 점화식을 해결하는 방법
$$F(n)=F(n−1)+F(n−2),F(0)=0,F(1)=1$$
- 특성방정식의 근을 이용하면 일반항이 아래와 같다. 
$$
\begin{gathered}
F(n)=\frac{1}{\sqrt{5}}\left(\varphi^n-\psi^n\right) \\
\varphi=\frac{1+\sqrt{5}}{2}, \quad \psi=\frac{1-\sqrt{5}}{2}
\end{gathered}
$$
- 선형 점화식(Linear Recurrence Relation)을 푸는 강력한 도구이다. 

def sqrt5_approx():
    # 제곱근을 직접 근사 계산하는 방법 (Newton's method 사용)
    x = 5
    for _ in range(10):  # 충분히 반복하여 정밀한 값 도출
        x = (x + 5 / x) / 2
    return x

def fibonacci_closed_form(n):
    sqrt5 = sqrt5_approx()
    phi1 = (1 + sqrt5) / 2
    phi2 = (1 - sqrt5) / 2

    # 직접 거듭제곱을 계산
    phi1_n, phi2_n = 1, 1
    for _ in range(n):
        phi1_n *= phi1
        phi2_n *= phi2

    return int((phi1_n - phi2_n) / sqrt5)

# 테스트
print(fibonacci_closed_form(10))  # 출력: 55
print(fibonacci_closed_form(20))  # 출력: 6765

#시간복잡도 계산 결과
#O(n)을 O(1)로 개선할 수 있다.
### 3) 생성함수법(Generating Function Method)
- 점화식을 생성함수로 변환해 일반항을 구하는 방법

    - 카탈란 수의 점화식
$$C(n)=\sum_{i=0}^{N-1} C(i)C(n-1-i)$$
#카탈란 수 계산 (재귀적 방법)
#카탈란 수를 구하는 함수를 작성

def catalan_recursive(n):
    if n == 0:
        return 1
    else:
        result = 0
        for i in range(n):
            result += catalan_recursive(i) * catalan_recursive(n-i-1)
        return result
    
# 테스트
for i in range(15):
    print(catalan_recursive(i))

#시간복잡도 계산 결과
#T(n)=O(4^n)
#O(n)=O(4^n)

#시간복잡도 계산 결과는 O(4^n)이다.

#카탈란 수 계산 (동적 계획법)
#카탈란 수를 구하는 함수를 작성

def catalan_dp(n):
    dp = [0] * (n+1)
    dp[0] = 1
    for i in range(1, n+1):
        for j in range(i):
            dp[i] += dp[j] * dp[i-j-1]
    return dp[n]

# 테스트
for i in range(15):
    print(catalan_dp(i))    

#시간복잡도 계산 결과
#T(n)=O(n^2)
#O(n)=O(n^2)

#시간복잡도 계산 결과는 O(n^2)이다.
### 4) 마스터 정리 (Master Theorem) 활용
- 마스터 정리를 이용해서 아래 형태의 점화식에 한정하여 시간 복잡도를 쉽게 계산할 수 있도록 한다. 

$$T(n)=aT(n/b)+f(n)$$
(a: 분할한 부분 문제의 수, b: 입력의 크기가 줄어드는 비율≥2, T(n/b): 부분 문제를 푸는데 걸리는 시간, f(n): merging에 필요한 시간)

T(n) 은 다음과 같다. 

\begin{cases} 
 O(n^{\log_{b}{a}}) & \text{ if } f(n)=O(n^c), c < \log_{b}{a} \\ 
 O(n^{\log_{b}{a}}\log{n}) & \text{ if } f(n)=O(n^{c}), c = \log_{b}{a}  \\ 
 O(f(n)) & \text{ if } f(n)=O(n^c), c > \log_{b}{a} 
\end{cases}

T(n)을 시그마를 통해 정리한다면 다음과 같다

\begin{align*} 
 T(n)&= f(n) + aT(\frac{n}{b})\\ 
 &= f(n) + af(\frac{n}{b}) + a^2T(\frac{n}{b^2})\\ 
 &= f(n) + af(\frac{n}{b}) + a^2f(\frac{n}{b^2})+ \cdots + a^{\log_{b}{n}}f(1)\\ 
 &= \sum_{i=0}^{\log_{b}{n}}a^if(\frac{n}{b^i})\\ 
\end{align*}

Case1의 경우 아래의 유도과정을 통해 $O(n^{\log_{b}{a}})$ 를 구할 수 있다. 

\begin{align*}
 &O(\sum_{i=0}^{\log_{b}{n}}a^i(\frac{n}{b^i})^c)\\
 &= O(n^c\sum_{i=0}^{\log_{b}{n}}(\frac{a}{b^c})^i)\\
 &= O(n^c\frac{(\frac{a}{b^c})^{\log_{b}{n}+1}-1}{\frac{a}{b^c}-1})\quad (\because c < \log_{b}{a},b^c<a, \frac{a}{b^c} > 1)\\
 &= O(n^c\frac{a^{\log_{b}{bn}}}{bn^c})\\
 &= O(\frac{a^{\log_{b}{bn}}}{b})\\
 &= O(n^{\log_{b}{a}}) 
\end{align*}

Case2의 경우 $a/{b^c} = 1$인 경우로 아래 과정을 통해 $O(n^{\log_{b}{a}}\log{n})$을 구할 수 있다. 

\begin{align*}
 &O(\sum_{i=0}^{\log_{b}{n}}a^i(\frac{n}{b^i})^c)\\
 &= O(n^c\sum_{i=0}^{\log_{b}{n}}(\frac{a}{b^c})^i)\\
 &= O(n^{\log_{b}{a}}\log{n}) \quad (\because c = \log_{b}{a},b^c=a, \frac{a}{b^c}= 1)
\end{align*}

Case3의 경우 n이 커짐에 따라 $r^n$이 작아지므로 합이 $1/{1-r}$이란 상수에 수렴하게되어 $O(n^c\frac{(\frac{a}{b^c})^{\log_{b}{n}+1}-1}{\frac{a}{b^c}-1}) = O(n^2)$ 을 구할 수 있다. 

\begin{align*}
 &O(\sum_{i=0}^{\log_{b}{n}}a^i(\frac{n}{b^i})^c)\\
 &= O(n^c\sum_{i=0}^{\log_{b}{n}}(\frac{a}{b^c})^i)\\
 &= O(n^c\frac{(\frac{a}{b^c})^{\log_{b}{n}+1}-1}{\frac{a}{b^c}-1})\quad (\because c > \log_{b}{a},b^c>a, \frac{a}{b^c} < 1)\\
 &= O(n^c)\quad \\
\end{align*}


#### Merge sort 알고리즘의 시간복잡도를 Master theorem으로 계산하기
- n이 n/2 2개로 나뉘고 각 n/2가 n/2 2개로 나뉘는 recursive tree를 상상해보자. 재귀식은 다음과 같다.
$$ T(n) = 2T(\frac{n}{2}) + O(n) $$

- Master theorem으로 계산하면 아래와 같이 구할 수 있다. 
$$ a=1, b=2, c=1$$
$$c=log_{b}{a}=1$$
$$O(n\log{n})$$


#마스터 정리를 이용한 거듭제곱 계산(분할 정복) 

def power(x, n):
    if n == 0:
        return 1
    elif n % 2 == 0:
        half = power(x, n // 2)
        return half * half
    else:
        return x * power(x, n - 1)

# 테스트
print(power(2, 10))  # 출력: 1024
print(power(3, 5))   # 출력: 243

#시간복잡도 계산 결과
#T(n)=T(n/2)+O(1)
#O(n)=O(logn)

#시간복잡도 계산 결과는 O(logn)이다.
### 5) 행렬 지수법(Matrix Exponentiation)
- 행렬을 직접 구현해서 빠르게 계산하는 코드
$$
\left[\begin{array}{c}
F(n) \\
F(n-1)
\end{array}\right]=\left[\begin{array}{ll}
1 & 1 \\
1 & 0
\end{array}\right] \times\left[\begin{array}{c}
F(n-1) \\
F(n-2)
\end{array}\right]
$$

- 이를 이용하면 $O(log n)$의 시간복잡도로 피보나치 수열을 계산할 수 있다. 

def matrix_mult(A, B):
    return [[A[0][0] * B[0][0] + A[0][1] * B[1][0], A[0][0] * B[0][1] + A[0][1] * B[1][1]],
            [A[1][0] * B[0][0] + A[1][1] * B[1][0], A[1][0] * B[0][1] + A[1][1] * B[1][1]]]

def matrix_power(A, n):
    result = [[1, 0], [0, 1]]  # 단위 행렬
    while n:
        if n % 2:
            result = matrix_mult(result, A)
        A = matrix_mult(A, A)
        n //= 2
    return result

def fibonacci_matrix(n):
    if n == 0:
        return 0
    F = [[1, 1], [1, 0]]
    result = matrix_power(F, n)
    return result[0][1]

# 테스트
print(fibonacci_matrix(10))  # 출력: 55
print(fibonacci_matrix(20))  # 출력: 6765

#시간복잡도 계산 결과
#T(n)=O(logn)
#O(n)을 O(logn)으로 개선할 수 있다.

### 6) 점근 해석 (Asymptotic Analysis)
- 이진 탐색의 점화식을 직접 구현한 뒤 점근 해석을 통해 $O(log n)$ 을 경계추론하기
$$T(n)=T(n/2)+1$$
def binary_search_steps(n):
    steps = 0
    while n > 1:
        n //= 2
        steps += 1
    return steps

# 테스트
print(binary_search_steps(1024))  # 출력: 10 (log2(1024) ≈ 10)
print(binary_search_steps(1000))  # 출력: 9 (log2(1000) ≈ 9)

#시간복잡도 계산 결과
#T(n)=O(logn)

#O(n)을 O(logn)으로 개선할 수 있다.


---


# 2.연산 유형별 점화식 조사하기(유형, 점화식, 빅오표기법, 예제코드)
### 1) 상수 연산: O(1)
- 입력의 크기와 관계없이 일정한 연산을 수행
$$T(n)=O(1)$$
def constant_operation():
    result = 42  # 단순한 상수 연산
    return result

print(constant_operation())  # 출력: 42

#시간복잡도 계산 결과
#O(1)
### 2) 선형 반복문: O(n)
- 한 번의 루프로 모든 요소를 처리
$$T(n)=T(n−1)+O(1)$$

def linear_loop(n):
    count = 0
    for i in range(n):  # n번 반복
        count += 1
    return count

print(linear_loop(10))  # 출력: 10

#시간복잡도 계산 결과
#T(n)=O(n)
### 3) 이중 루프(중첩 반복문): $O(n^2)$
- 두 개의 중첩된 루프를 사용
$$T(n)=T(n−1)+O(n)$$
def nested_loop(n):
    count = 0
    for i in range(n):  
        for j in range(n):  # O(n^2) 연산 수행
            count += 1
    return count

print(nested_loop(5))  # 출력: 25

#시간복잡도 계산 결과
#T(n)=O(n^2)
### 4) 로그 연산: $O(log n)$
- 입력 크기를 절반씩 줄여 연산
$$T(n)=T(n/2)+O(1)$$
def log_operation(n):
    count = 0
    while n > 1:  # 입력 크기를 절반씩 감소
        n //= 2
        count += 1
    return count

print(log_operation(16))  # 출력: 4 (log₂16 = 4)

#시간복잡도 계산 결과
#T(n)=O(logn)
### 5) 분할 정복 (병합 정렬 형태): $O(nlog\,n)$
- 병합 정렬과 같은 알고리즘에서 사용
$$T(n)=2T(n/2)+O(n)$$
def merge(arr, left, mid, right):
    left_arr = arr[left:mid + 1]
    right_arr = arr[mid + 1:right + 1]
    i = j = 0
    k = left

    while i < len(left_arr) and j < len(right_arr):
        if left_arr[i] <= right_arr[j]:
            arr[k] = left_arr[i]
            i += 1
        else:
            arr[k] = right_arr[j]
            j += 1
        k += 1

    while i < len(left_arr):
        arr[k] = left_arr[i]
        i += 1
        k += 1

    while j < len(right_arr):
        arr[k] = right_arr[j]
        j += 1
        k += 1

def merge_sort(arr, left, right):
    if left < right:
        mid = (left + right) // 2
        merge_sort(arr, left, mid)
        merge_sort(arr, mid + 1, right)
        merge(arr, left, mid, right)

arr = [5, 3, 8, 4, 2, 7, 6, 1]
merge_sort(arr, 0, len(arr) - 1)
print(arr)  # 출력: [1, 2, 3, 4, 5, 6, 7, 8]

#시간복잡도 계산 결과
#T(n)=O(nlogn)
### 6) 지수 연산: $O(2^n)$
- 피보나치 수열과 같은 문제에서 발생
$$T(n)=2T(n−1)+O(1)$$
def fibonacci(n):
    if n <= 1:
        return n
    return fibonacci(n - 1) + fibonacci(n - 2)

print(fibonacci(5))  # 출력: 5
print(fibonacci(10))  # 출력: 55

#시간복잡도 계산 결과
#T(n)=O(2^n)
### 7) 부분 합(누적 합): O(n)
- 배열의 누적 합을 구할 때 사용됨
$$T(n)=T(n−1)+O(1)$$
def prefix_sum(arr):
    n = len(arr)
    prefix = [0] * n
    prefix[0] = arr[0]

    for i in range(1, n):
        prefix[i] = prefix[i - 1] + arr[i]

    return prefix

print(prefix_sum([1, 2, 3, 4]))  # 출력: [1, 3, 6, 10]

#시간복잡도 계산 결과
#T(n)=O(n)
### 8) 제곱 수 반복문: $O(2^n)$
- 점진적으로 증가하는 반복문을 포함할 때 발생
$$T(n)=T(n−1)+O(2^i)$$
def exponential_loop(n):
    count = 0
    for i in range(n):
        for j in range(2**i):  # 지수적으로 증가하는 반복
            count += 1
    return count

print(exponential_loop(4))  # 출력: 15 (1 + 2 + 4 + 8)

#시간복잡도 계산 결과
#T(n)=O(2^n)
### 9) 트리 순회 (DFS, BFS): O(n)
- 이진 트리를 깊이 우선 탐색(DFS)할 때 발생. 
$$T(n)=2T(n/2)+O(1)$$
class Node:
    def __init__(self, value):
        self.value = value
        self.left = None
        self.right = None

def dfs(node):
    if node is None:
        return
    dfs(node.left)
    dfs(node.right)

# 트리 예제
root = Node(1)
root.left = Node(2)
root.right = Node(3)
dfs(root)

#시간복잡도 계산 결과
#T(n)=O(n)
### 10) 삼중 루프(3중 반복문):$O(n^3)$
- 플로이드-워셜 알고리즘처럼 그래프의 모든 정점 쌍을 탐색할 때 발생
$$T(n)=T(n−1)+O(n^2)$$
def triple_loop(n):
    count = 0
    for i in range(n):
        for j in range(n):
            for k in range(n):  # 3중 반복문
                count += 1
    return count

print(triple_loop(3))  # 출력: 27 (3^3)

#시간복잡도 계산 결과
#T(n)=O(n^3)
### 11) 조합 탐색 (백트래킹): $O(n!)$
- 순열/조합을 찾을 때 발생
$$T(n)=T(n−1)+O(n!)$$
def permute(arr, l, r):
    if l == r:
        print(arr)
    else:
        for i in range(l, r + 1):
            arr[l], arr[i] = arr[i], arr[l]
            permute(arr, l + 1, r)
            arr[l], arr[i] = arr[i], arr[l]  # 백트래킹

permute([1, 2, 3], 0, 2)

#시간복잡도 계산 결과
#T(n)=O(n!)
### 12) 행렬 거듭제곱 (빠른 피보나치 계산): $O(log\,n)$
- 행렬을 이용하여 피보나치 수열을 빠르게 계산할 때 사용됨
$$T(n)=T(n/2)+O(1)$$
def matrix_mult(A, B):
    return [[A[0][0] * B[0][0] + A[0][1] * B[1][0], A[0][0] * B[0][1] + A[0][1] * B[1][1]],
            [A[1][0] * B[0][0] + A[1][1] * B[1][0], A[1][0] * B[0][1] + A[1][1] * B[1][1]]]

def matrix_exponentiation(F, n):
    if n == 1:
        return F
    if n % 2 == 0:
        half = matrix_exponentiation(F, n // 2)
        return matrix_mult(half, half)
    else:
        return matrix_mult(F, matrix_exponentiation(F, n - 1))

def fibonacci_matrix(n):
    F = [[1, 1], [1, 0]]
    if n == 0:
        return 0
    result = matrix_exponentiation(F, n - 1)
    return result[0][0]

print(fibonacci_matrix(10))  # 출력: 55

#시간복잡도 계산 결과
#T(n)=O(logn)
### 13) 비트 연산 기반 탐색: $O(log\,n)$
- 비트 마스크를 이용한 최적화 탐색
$$T(n)=T(n/2)+O(1)$$
def bit_count(n):
    count = 0
    while n > 0:
        count += n & 1  # 마지막 비트 확인
        n >>= 1  # 오른쪽으로 1비트 이동
    return count

print(bit_count(15))  # 출력: 4 (2진수 1111)

#시간복잡도 계산 결과
#T(n)=O(logn)
