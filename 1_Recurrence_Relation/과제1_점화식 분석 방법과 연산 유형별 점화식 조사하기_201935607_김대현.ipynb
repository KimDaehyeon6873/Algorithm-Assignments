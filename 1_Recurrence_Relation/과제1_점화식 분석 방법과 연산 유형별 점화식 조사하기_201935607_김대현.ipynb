{
  "cells": [
    {
      "cell_type": "markdown",
      "metadata": {
        "id": "n_gLhcoQe3pD"
      },
      "source": [
        "# 과제1: 점화식 분석 방법과 연산 유형별 점화식 조사하기\n",
        "## 201935607 전기공학과 김대현"
      ]
    },
    {
      "cell_type": "markdown",
      "metadata": {
        "id": "5eqH6EEoRjnt"
      },
      "source": [
        "\n",
        "\n",
        "---\n",
        "\n"
      ]
    },
    {
      "cell_type": "markdown",
      "metadata": {
        "id": "zbK7LsGRRkmv"
      },
      "source": [
        "# 1.다양한 점화식 분석 방법에 대해 조사하기(종류, 설명, 예제코드)"
      ]
    },
    {
      "cell_type": "markdown",
      "metadata": {
        "id": "e_21YenYRqRr"
      },
      "source": [
        "\n",
        "\n",
        "---\n",
        "\n"
      ]
    },
    {
      "cell_type": "markdown",
      "metadata": {
        "id": "NAbiWsMhRwnZ"
      },
      "source": [
        "### 1) 단순 전개법 (Iteration Method)\n",
        "- 점화식을 여러 번 전개하여 일반항을 유도하는 방법. \n",
        "- 재귀 함수의 반복적인 호출을 따라가면서 직접 계산하여 결과를 도출한다. "
      ]
    },
    {
      "cell_type": "code",
      "execution_count": 1,
      "metadata": {
        "id": "c1jCuwFXGcTB"
      },
      "outputs": [
        {
          "name": "stdout",
          "output_type": "stream",
          "text": [
            "30\n",
            "300\n",
            "3000\n"
          ]
        }
      ],
      "source": [
        "#선형 점화식 (T(n)=T(n-1)+3)을 이용한 시간복잡도 계산\n",
        "def linear_recurrence(n):\n",
        "    if n == 0:\n",
        "        return 0\n",
        "    else:\n",
        "        return linear_recurrence(n-1) + 3\n",
        "\n",
        "#시간복잡도 계산\n",
        "print(linear_recurrence(10)) #T(10)=T(9)+3=...=T(0)+3*10=30\n",
        "print(linear_recurrence(100)) #T(100)=T(99)+3=...=T(0)+3*100=300\n",
        "print(linear_recurrence(1000)) #T(1000)=T(999)+3=...=T(0)+3*1000=3000\n",
        "\n",
        "\n",
        "#시간복잡도 계산 결과\n",
        "#T(n)=3n\n",
        "#O(n)=n\n",
        "#O(n)=O(3n)\n",
        "#O(n)=O(n)\n",
        "\n",
        "#시간복잡도 계산 결과는 O(n)이다."
      ]
    },
    {
      "cell_type": "markdown",
      "metadata": {
        "id": "ntVHc2rpFVQF"
      },
      "source": [
        "### 2) 특성 방정식법 (Characteristic Equation Method)\n",
        "- 특성 방정식을 이용하여 점화식을 해결하는 방법\n",
        "$$F(n)=F(n−1)+F(n−2),F(0)=0,F(1)=1$$\n",
        "- 특성방정식의 근을 이용하면 일반항이 아래와 같다. \n",
        "$$\n",
        "\\begin{gathered}\n",
        "F(n)=\\frac{1}{\\sqrt{5}}\\left(\\varphi^n-\\psi^n\\right) \\\\\n",
        "\\varphi=\\frac{1+\\sqrt{5}}{2}, \\quad \\psi=\\frac{1-\\sqrt{5}}{2}\n",
        "\\end{gathered}\n",
        "$$\n",
        "- 선형 점화식(Linear Recurrence Relation)을 푸는 강력한 도구이다. \n"
      ]
    },
    {
      "cell_type": "code",
      "execution_count": 1,
      "metadata": {},
      "outputs": [
        {
          "name": "stdout",
          "output_type": "stream",
          "text": [
            "55\n",
            "6765\n"
          ]
        }
      ],
      "source": [
        "def sqrt5_approx():\n",
        "    # 제곱근을 직접 근사 계산하는 방법 (Newton's method 사용)\n",
        "    x = 5\n",
        "    for _ in range(10):  # 충분히 반복하여 정밀한 값 도출\n",
        "        x = (x + 5 / x) / 2\n",
        "    return x\n",
        "\n",
        "def fibonacci_closed_form(n):\n",
        "    sqrt5 = sqrt5_approx()\n",
        "    phi1 = (1 + sqrt5) / 2\n",
        "    phi2 = (1 - sqrt5) / 2\n",
        "\n",
        "    # 직접 거듭제곱을 계산\n",
        "    phi1_n, phi2_n = 1, 1\n",
        "    for _ in range(n):\n",
        "        phi1_n *= phi1\n",
        "        phi2_n *= phi2\n",
        "\n",
        "    return int((phi1_n - phi2_n) / sqrt5)\n",
        "\n",
        "# 테스트\n",
        "print(fibonacci_closed_form(10))  # 출력: 55\n",
        "print(fibonacci_closed_form(20))  # 출력: 6765\n",
        "\n",
        "#시간복잡도 계산 결과\n",
        "#O(n)을 O(1)로 개선할 수 있다."
      ]
    },
    {
      "cell_type": "markdown",
      "metadata": {},
      "source": [
        "### 3) 생성함수법(Generating Function Method)\n",
        "- 점화식을 생성함수로 변환해 일반항을 구하는 방법\n",
        "\n",
        "    - 카탈란 수의 점화식\n",
        "$$C(n)=\\sum_{i=0}^{N-1} C(i)C(n-1-i)$$"
      ]
    },
    {
      "cell_type": "code",
      "execution_count": null,
      "metadata": {
        "id": "Zq9UxntIGMWf"
      },
      "outputs": [],
      "source": [
        "#카탈란 수 계산 (재귀적 방법)\n",
        "#카탈란 수를 구하는 함수를 작성\n",
        "\n",
        "def catalan_recursive(n):\n",
        "    if n == 0:\n",
        "        return 1\n",
        "    else:\n",
        "        result = 0\n",
        "        for i in range(n):\n",
        "            result += catalan_recursive(i) * catalan_recursive(n-i-1)\n",
        "        return result\n",
        "    \n",
        "# 테스트\n",
        "for i in range(15):\n",
        "    print(catalan_recursive(i))\n",
        "\n",
        "#시간복잡도 계산 결과\n",
        "#T(n)=O(4^n)\n",
        "#O(n)=O(4^n)\n",
        "\n",
        "#시간복잡도 계산 결과는 O(4^n)이다.\n",
        "\n",
        "#카탈란 수 계산 (동적 계획법)\n",
        "#카탈란 수를 구하는 함수를 작성\n",
        "\n",
        "def catalan_dp(n):\n",
        "    dp = [0] * (n+1)\n",
        "    dp[0] = 1\n",
        "    for i in range(1, n+1):\n",
        "        for j in range(i):\n",
        "            dp[i] += dp[j] * dp[i-j-1]\n",
        "    return dp[n]\n",
        "\n",
        "# 테스트\n",
        "for i in range(15):\n",
        "    print(catalan_dp(i))    \n",
        "\n",
        "#시간복잡도 계산 결과\n",
        "#T(n)=O(n^2)\n",
        "#O(n)=O(n^2)\n",
        "\n",
        "#시간복잡도 계산 결과는 O(n^2)이다."
      ]
    },
    {
      "cell_type": "markdown",
      "metadata": {},
      "source": [
        "### 4) 마스터 정리 (Master Theorem) 활용\n",
        "- 마스터 정리를 이용해서 아래 형태의 점화식에 한정하여 시간 복잡도를 쉽게 계산할 수 있도록 한다. \n",
        "\n",
        "$$T(n)=aT(n/b)+f(n)$$\n",
        "(a: 분할한 부분 문제의 수, b: 입력의 크기가 줄어드는 비율≥2, T(n/b): 부분 문제를 푸는데 걸리는 시간, f(n): merging에 필요한 시간)\n",
        "\n",
        "T(n) 은 다음과 같다. \n",
        "\n",
        "\\begin{cases} \n",
        " O(n^{\\log_{b}{a}}) & \\text{ if } f(n)=O(n^c), c < \\log_{b}{a} \\\\ \n",
        " O(n^{\\log_{b}{a}}\\log{n}) & \\text{ if } f(n)=O(n^{c}), c = \\log_{b}{a}  \\\\ \n",
        " O(f(n)) & \\text{ if } f(n)=O(n^c), c > \\log_{b}{a} \n",
        "\\end{cases}\n",
        "\n",
        "T(n)을 시그마를 통해 정리한다면 다음과 같다\n",
        "\n",
        "\\begin{align*} \n",
        " T(n)&= f(n) + aT(\\frac{n}{b})\\\\ \n",
        " &= f(n) + af(\\frac{n}{b}) + a^2T(\\frac{n}{b^2})\\\\ \n",
        " &= f(n) + af(\\frac{n}{b}) + a^2f(\\frac{n}{b^2})+ \\cdots + a^{\\log_{b}{n}}f(1)\\\\ \n",
        " &= \\sum_{i=0}^{\\log_{b}{n}}a^if(\\frac{n}{b^i})\\\\ \n",
        "\\end{align*}\n",
        "\n",
        "Case1의 경우 아래의 유도과정을 통해 $O(n^{\\log_{b}{a}})$ 를 구할 수 있다. \n",
        "\n",
        "\\begin{align*}\n",
        " &O(\\sum_{i=0}^{\\log_{b}{n}}a^i(\\frac{n}{b^i})^c)\\\\\n",
        " &= O(n^c\\sum_{i=0}^{\\log_{b}{n}}(\\frac{a}{b^c})^i)\\\\\n",
        " &= O(n^c\\frac{(\\frac{a}{b^c})^{\\log_{b}{n}+1}-1}{\\frac{a}{b^c}-1})\\quad (\\because c < \\log_{b}{a},b^c<a, \\frac{a}{b^c} > 1)\\\\\n",
        " &= O(n^c\\frac{a^{\\log_{b}{bn}}}{bn^c})\\\\\n",
        " &= O(\\frac{a^{\\log_{b}{bn}}}{b})\\\\\n",
        " &= O(n^{\\log_{b}{a}}) \n",
        "\\end{align*}\n",
        "\n",
        "Case2의 경우 $a/{b^c} = 1$인 경우로 아래 과정을 통해 $O(n^{\\log_{b}{a}}\\log{n})$을 구할 수 있다. \n",
        "\n",
        "\\begin{align*}\n",
        " &O(\\sum_{i=0}^{\\log_{b}{n}}a^i(\\frac{n}{b^i})^c)\\\\\n",
        " &= O(n^c\\sum_{i=0}^{\\log_{b}{n}}(\\frac{a}{b^c})^i)\\\\\n",
        " &= O(n^{\\log_{b}{a}}\\log{n}) \\quad (\\because c = \\log_{b}{a},b^c=a, \\frac{a}{b^c}= 1)\n",
        "\\end{align*}\n",
        "\n",
        "Case3의 경우 n이 커짐에 따라 $r^n$이 작아지므로 합이 $1/{1-r}$이란 상수에 수렴하게되어 $O(n^c\\frac{(\\frac{a}{b^c})^{\\log_{b}{n}+1}-1}{\\frac{a}{b^c}-1}) = O(n^2)$ 을 구할 수 있다. \n",
        "\n",
        "\\begin{align*}\n",
        " &O(\\sum_{i=0}^{\\log_{b}{n}}a^i(\\frac{n}{b^i})^c)\\\\\n",
        " &= O(n^c\\sum_{i=0}^{\\log_{b}{n}}(\\frac{a}{b^c})^i)\\\\\n",
        " &= O(n^c\\frac{(\\frac{a}{b^c})^{\\log_{b}{n}+1}-1}{\\frac{a}{b^c}-1})\\quad (\\because c > \\log_{b}{a},b^c>a, \\frac{a}{b^c} < 1)\\\\\n",
        " &= O(n^c)\\quad \\\\\n",
        "\\end{align*}\n",
        "\n",
        "\n",
        "#### Merge sort 알고리즘의 시간복잡도를 Master theorem으로 계산하기\n",
        "- n이 n/2 2개로 나뉘고 각 n/2가 n/2 2개로 나뉘는 recursive tree를 상상해보자. 재귀식은 다음과 같다.\n",
        "$$ T(n) = 2T(\\frac{n}{2}) + O(n) $$\n",
        "\n",
        "- Master theorem으로 계산하면 아래와 같이 구할 수 있다. \n",
        "$$ a=1, b=2, c=1$$\n",
        "$$c=log_{b}{a}=1$$\n",
        "$$O(n\\log{n})$$\n",
        "\n"
      ]
    },
    {
      "cell_type": "code",
      "execution_count": null,
      "metadata": {},
      "outputs": [],
      "source": [
        "#마스터 정리를 이용한 거듭제곱 계산(분할 정복) \n",
        "\n",
        "def power(x, n):\n",
        "    if n == 0:\n",
        "        return 1\n",
        "    elif n % 2 == 0:\n",
        "        half = power(x, n // 2)\n",
        "        return half * half\n",
        "    else:\n",
        "        return x * power(x, n - 1)\n",
        "\n",
        "# 테스트\n",
        "print(power(2, 10))  # 출력: 1024\n",
        "print(power(3, 5))   # 출력: 243\n",
        "\n",
        "#시간복잡도 계산 결과\n",
        "#T(n)=T(n/2)+O(1)\n",
        "#O(n)=O(logn)\n",
        "\n",
        "#시간복잡도 계산 결과는 O(logn)이다."
      ]
    },
    {
      "cell_type": "markdown",
      "metadata": {
        "id": "4330b95b-9496-4969-a5a7-5e5e43db8142"
      },
      "source": [
        "### 5) 행렬 지수법(Matrix Exponentiation)\n",
        "- 행렬을 직접 구현해서 빠르게 계산하는 코드\n",
        "$$\n",
        "\\left[\\begin{array}{c}\n",
        "F(n) \\\\\n",
        "F(n-1)\n",
        "\\end{array}\\right]=\\left[\\begin{array}{ll}\n",
        "1 & 1 \\\\\n",
        "1 & 0\n",
        "\\end{array}\\right] \\times\\left[\\begin{array}{c}\n",
        "F(n-1) \\\\\n",
        "F(n-2)\n",
        "\\end{array}\\right]\n",
        "$$\n",
        "\n",
        "- 이를 이용하면 $O(log n)$의 시간복잡도로 피보나치 수열을 계산할 수 있다. "
      ]
    },
    {
      "cell_type": "code",
      "execution_count": null,
      "metadata": {
        "id": "6c060dda-6dab-498c-8adb-d4143c22f1ac"
      },
      "outputs": [],
      "source": [
        "\n",
        "def matrix_mult(A, B):\n",
        "    return [[A[0][0] * B[0][0] + A[0][1] * B[1][0], A[0][0] * B[0][1] + A[0][1] * B[1][1]],\n",
        "            [A[1][0] * B[0][0] + A[1][1] * B[1][0], A[1][0] * B[0][1] + A[1][1] * B[1][1]]]\n",
        "\n",
        "def matrix_power(A, n):\n",
        "    result = [[1, 0], [0, 1]]  # 단위 행렬\n",
        "    while n:\n",
        "        if n % 2:\n",
        "            result = matrix_mult(result, A)\n",
        "        A = matrix_mult(A, A)\n",
        "        n //= 2\n",
        "    return result\n",
        "\n",
        "def fibonacci_matrix(n):\n",
        "    if n == 0:\n",
        "        return 0\n",
        "    F = [[1, 1], [1, 0]]\n",
        "    result = matrix_power(F, n)\n",
        "    return result[0][1]\n",
        "\n",
        "# 테스트\n",
        "print(fibonacci_matrix(10))  # 출력: 55\n",
        "print(fibonacci_matrix(20))  # 출력: 6765\n",
        "\n",
        "#시간복잡도 계산 결과\n",
        "#T(n)=O(logn)\n",
        "#O(n)을 O(logn)으로 개선할 수 있다.\n"
      ]
    },
    {
      "cell_type": "markdown",
      "metadata": {},
      "source": [
        "### 6) 점근 해석 (Asymptotic Analysis)\n",
        "- 이진 탐색의 점화식을 직접 구현한 뒤 점근 해석을 통해 $O(log n)$ 을 경계추론하기\n",
        "$$T(n)=T(n/2)+1$$"
      ]
    },
    {
      "cell_type": "code",
      "execution_count": 2,
      "metadata": {},
      "outputs": [
        {
          "name": "stdout",
          "output_type": "stream",
          "text": [
            "10\n",
            "9\n"
          ]
        }
      ],
      "source": [
        "def binary_search_steps(n):\n",
        "    steps = 0\n",
        "    while n > 1:\n",
        "        n //= 2\n",
        "        steps += 1\n",
        "    return steps\n",
        "\n",
        "# 테스트\n",
        "print(binary_search_steps(1024))  # 출력: 10 (log2(1024) ≈ 10)\n",
        "print(binary_search_steps(1000))  # 출력: 9 (log2(1000) ≈ 9)\n",
        "\n",
        "#시간복잡도 계산 결과\n",
        "#T(n)=O(logn)\n",
        "\n",
        "#O(n)을 O(logn)으로 개선할 수 있다."
      ]
    },
    {
      "cell_type": "markdown",
      "metadata": {
        "id": "jXyhU2fT2Xgo"
      },
      "source": [
        "\n",
        "\n",
        "---\n",
        "\n"
      ]
    },
    {
      "cell_type": "markdown",
      "metadata": {},
      "source": [
        "# 2.연산 유형별 점화식 조사하기(유형, 점화식, 빅오표기법, 예제코드)"
      ]
    },
    {
      "cell_type": "markdown",
      "metadata": {},
      "source": [
        "### 1) 상수 연산: O(1)\n",
        "- 입력의 크기와 관계없이 일정한 연산을 수행\n",
        "$$T(n)=O(1)$$"
      ]
    },
    {
      "cell_type": "code",
      "execution_count": null,
      "metadata": {},
      "outputs": [],
      "source": [
        "def constant_operation():\n",
        "    result = 42  # 단순한 상수 연산\n",
        "    return result\n",
        "\n",
        "print(constant_operation())  # 출력: 42\n",
        "\n",
        "#시간복잡도 계산 결과\n",
        "#O(1)"
      ]
    },
    {
      "cell_type": "markdown",
      "metadata": {},
      "source": [
        "### 2) 선형 반복문: O(n)\n",
        "- 한 번의 루프로 모든 요소를 처리\n",
        "$$T(n)=T(n−1)+O(1)$$\n"
      ]
    },
    {
      "cell_type": "code",
      "execution_count": null,
      "metadata": {},
      "outputs": [],
      "source": [
        "def linear_loop(n):\n",
        "    count = 0\n",
        "    for i in range(n):  # n번 반복\n",
        "        count += 1\n",
        "    return count\n",
        "\n",
        "print(linear_loop(10))  # 출력: 10\n",
        "\n",
        "#시간복잡도 계산 결과\n",
        "#T(n)=O(n)"
      ]
    },
    {
      "cell_type": "markdown",
      "metadata": {},
      "source": [
        "### 3) 이중 루프(중첩 반복문): $O(n^2)$\n",
        "- 두 개의 중첩된 루프를 사용\n",
        "$$T(n)=T(n−1)+O(n)$$"
      ]
    },
    {
      "cell_type": "code",
      "execution_count": null,
      "metadata": {},
      "outputs": [],
      "source": [
        "def nested_loop(n):\n",
        "    count = 0\n",
        "    for i in range(n):  \n",
        "        for j in range(n):  # O(n^2) 연산 수행\n",
        "            count += 1\n",
        "    return count\n",
        "\n",
        "print(nested_loop(5))  # 출력: 25\n",
        "\n",
        "#시간복잡도 계산 결과\n",
        "#T(n)=O(n^2)"
      ]
    },
    {
      "cell_type": "markdown",
      "metadata": {},
      "source": [
        "### 4) 로그 연산: $O(log n)$\n",
        "- 입력 크기를 절반씩 줄여 연산\n",
        "$$T(n)=T(n/2)+O(1)$$"
      ]
    },
    {
      "cell_type": "code",
      "execution_count": null,
      "metadata": {},
      "outputs": [],
      "source": [
        "def log_operation(n):\n",
        "    count = 0\n",
        "    while n > 1:  # 입력 크기를 절반씩 감소\n",
        "        n //= 2\n",
        "        count += 1\n",
        "    return count\n",
        "\n",
        "print(log_operation(16))  # 출력: 4 (log₂16 = 4)\n",
        "\n",
        "#시간복잡도 계산 결과\n",
        "#T(n)=O(logn)"
      ]
    },
    {
      "cell_type": "markdown",
      "metadata": {},
      "source": [
        "### 5) 분할 정복 (병합 정렬 형태): $O(nlog\\,n)$\n",
        "- 병합 정렬과 같은 알고리즘에서 사용\n",
        "$$T(n)=2T(n/2)+O(n)$$"
      ]
    },
    {
      "cell_type": "code",
      "execution_count": null,
      "metadata": {},
      "outputs": [],
      "source": [
        "def merge(arr, left, mid, right):\n",
        "    left_arr = arr[left:mid + 1]\n",
        "    right_arr = arr[mid + 1:right + 1]\n",
        "    i = j = 0\n",
        "    k = left\n",
        "\n",
        "    while i < len(left_arr) and j < len(right_arr):\n",
        "        if left_arr[i] <= right_arr[j]:\n",
        "            arr[k] = left_arr[i]\n",
        "            i += 1\n",
        "        else:\n",
        "            arr[k] = right_arr[j]\n",
        "            j += 1\n",
        "        k += 1\n",
        "\n",
        "    while i < len(left_arr):\n",
        "        arr[k] = left_arr[i]\n",
        "        i += 1\n",
        "        k += 1\n",
        "\n",
        "    while j < len(right_arr):\n",
        "        arr[k] = right_arr[j]\n",
        "        j += 1\n",
        "        k += 1\n",
        "\n",
        "def merge_sort(arr, left, right):\n",
        "    if left < right:\n",
        "        mid = (left + right) // 2\n",
        "        merge_sort(arr, left, mid)\n",
        "        merge_sort(arr, mid + 1, right)\n",
        "        merge(arr, left, mid, right)\n",
        "\n",
        "arr = [5, 3, 8, 4, 2, 7, 6, 1]\n",
        "merge_sort(arr, 0, len(arr) - 1)\n",
        "print(arr)  # 출력: [1, 2, 3, 4, 5, 6, 7, 8]\n",
        "\n",
        "#시간복잡도 계산 결과\n",
        "#T(n)=O(nlogn)"
      ]
    },
    {
      "cell_type": "markdown",
      "metadata": {},
      "source": [
        "### 6) 지수 연산: $O(2^n)$\n",
        "- 피보나치 수열과 같은 문제에서 발생\n",
        "$$T(n)=2T(n−1)+O(1)$$"
      ]
    },
    {
      "cell_type": "code",
      "execution_count": null,
      "metadata": {},
      "outputs": [],
      "source": [
        "def fibonacci(n):\n",
        "    if n <= 1:\n",
        "        return n\n",
        "    return fibonacci(n - 1) + fibonacci(n - 2)\n",
        "\n",
        "print(fibonacci(5))  # 출력: 5\n",
        "print(fibonacci(10))  # 출력: 55\n",
        "\n",
        "#시간복잡도 계산 결과\n",
        "#T(n)=O(2^n)"
      ]
    },
    {
      "cell_type": "markdown",
      "metadata": {},
      "source": [
        "### 7) 부분 합(누적 합): O(n)\n",
        "- 배열의 누적 합을 구할 때 사용됨\n",
        "$$T(n)=T(n−1)+O(1)$$"
      ]
    },
    {
      "cell_type": "code",
      "execution_count": null,
      "metadata": {},
      "outputs": [],
      "source": [
        "def prefix_sum(arr):\n",
        "    n = len(arr)\n",
        "    prefix = [0] * n\n",
        "    prefix[0] = arr[0]\n",
        "\n",
        "    for i in range(1, n):\n",
        "        prefix[i] = prefix[i - 1] + arr[i]\n",
        "\n",
        "    return prefix\n",
        "\n",
        "print(prefix_sum([1, 2, 3, 4]))  # 출력: [1, 3, 6, 10]\n",
        "\n",
        "#시간복잡도 계산 결과\n",
        "#T(n)=O(n)"
      ]
    },
    {
      "cell_type": "markdown",
      "metadata": {},
      "source": [
        "### 8) 제곱 수 반복문: $O(2^n)$\n",
        "- 점진적으로 증가하는 반복문을 포함할 때 발생\n",
        "$$T(n)=T(n−1)+O(2^i)$$"
      ]
    },
    {
      "cell_type": "code",
      "execution_count": null,
      "metadata": {},
      "outputs": [],
      "source": [
        "def exponential_loop(n):\n",
        "    count = 0\n",
        "    for i in range(n):\n",
        "        for j in range(2**i):  # 지수적으로 증가하는 반복\n",
        "            count += 1\n",
        "    return count\n",
        "\n",
        "print(exponential_loop(4))  # 출력: 15 (1 + 2 + 4 + 8)\n",
        "\n",
        "#시간복잡도 계산 결과\n",
        "#T(n)=O(2^n)"
      ]
    },
    {
      "cell_type": "markdown",
      "metadata": {},
      "source": [
        "### 9) 트리 순회 (DFS, BFS): O(n)\n",
        "- 이진 트리를 깊이 우선 탐색(DFS)할 때 발생. \n",
        "$$T(n)=2T(n/2)+O(1)$$"
      ]
    },
    {
      "cell_type": "code",
      "execution_count": null,
      "metadata": {},
      "outputs": [],
      "source": [
        "class Node:\n",
        "    def __init__(self, value):\n",
        "        self.value = value\n",
        "        self.left = None\n",
        "        self.right = None\n",
        "\n",
        "def dfs(node):\n",
        "    if node is None:\n",
        "        return\n",
        "    dfs(node.left)\n",
        "    dfs(node.right)\n",
        "\n",
        "# 트리 예제\n",
        "root = Node(1)\n",
        "root.left = Node(2)\n",
        "root.right = Node(3)\n",
        "dfs(root)\n",
        "\n",
        "#시간복잡도 계산 결과\n",
        "#T(n)=O(n)"
      ]
    },
    {
      "cell_type": "markdown",
      "metadata": {},
      "source": [
        "### 10) 삼중 루프(3중 반복문):$O(n^3)$\n",
        "- 플로이드-워셜 알고리즘처럼 그래프의 모든 정점 쌍을 탐색할 때 발생\n",
        "$$T(n)=T(n−1)+O(n^2)$$"
      ]
    },
    {
      "cell_type": "code",
      "execution_count": null,
      "metadata": {},
      "outputs": [],
      "source": [
        "def triple_loop(n):\n",
        "    count = 0\n",
        "    for i in range(n):\n",
        "        for j in range(n):\n",
        "            for k in range(n):  # 3중 반복문\n",
        "                count += 1\n",
        "    return count\n",
        "\n",
        "print(triple_loop(3))  # 출력: 27 (3^3)\n",
        "\n",
        "#시간복잡도 계산 결과\n",
        "#T(n)=O(n^3)"
      ]
    },
    {
      "cell_type": "markdown",
      "metadata": {},
      "source": [
        "### 11) 조합 탐색 (백트래킹): $O(n!)$\n",
        "- 순열/조합을 찾을 때 발생\n",
        "$$T(n)=T(n−1)+O(n!)$$"
      ]
    },
    {
      "cell_type": "code",
      "execution_count": null,
      "metadata": {},
      "outputs": [],
      "source": [
        "def permute(arr, l, r):\n",
        "    if l == r:\n",
        "        print(arr)\n",
        "    else:\n",
        "        for i in range(l, r + 1):\n",
        "            arr[l], arr[i] = arr[i], arr[l]\n",
        "            permute(arr, l + 1, r)\n",
        "            arr[l], arr[i] = arr[i], arr[l]  # 백트래킹\n",
        "\n",
        "permute([1, 2, 3], 0, 2)\n",
        "\n",
        "#시간복잡도 계산 결과\n",
        "#T(n)=O(n!)"
      ]
    },
    {
      "cell_type": "markdown",
      "metadata": {},
      "source": [
        "### 12) 행렬 거듭제곱 (빠른 피보나치 계산): $O(log\\,n)$\n",
        "- 행렬을 이용하여 피보나치 수열을 빠르게 계산할 때 사용됨\n",
        "$$T(n)=T(n/2)+O(1)$$"
      ]
    },
    {
      "cell_type": "code",
      "execution_count": null,
      "metadata": {},
      "outputs": [],
      "source": [
        "def matrix_mult(A, B):\n",
        "    return [[A[0][0] * B[0][0] + A[0][1] * B[1][0], A[0][0] * B[0][1] + A[0][1] * B[1][1]],\n",
        "            [A[1][0] * B[0][0] + A[1][1] * B[1][0], A[1][0] * B[0][1] + A[1][1] * B[1][1]]]\n",
        "\n",
        "def matrix_exponentiation(F, n):\n",
        "    if n == 1:\n",
        "        return F\n",
        "    if n % 2 == 0:\n",
        "        half = matrix_exponentiation(F, n // 2)\n",
        "        return matrix_mult(half, half)\n",
        "    else:\n",
        "        return matrix_mult(F, matrix_exponentiation(F, n - 1))\n",
        "\n",
        "def fibonacci_matrix(n):\n",
        "    F = [[1, 1], [1, 0]]\n",
        "    if n == 0:\n",
        "        return 0\n",
        "    result = matrix_exponentiation(F, n - 1)\n",
        "    return result[0][0]\n",
        "\n",
        "print(fibonacci_matrix(10))  # 출력: 55\n",
        "\n",
        "#시간복잡도 계산 결과\n",
        "#T(n)=O(logn)"
      ]
    },
    {
      "cell_type": "markdown",
      "metadata": {},
      "source": [
        "### 13) 비트 연산 기반 탐색: $O(log\\,n)$\n",
        "- 비트 마스크를 이용한 최적화 탐색\n",
        "$$T(n)=T(n/2)+O(1)$$"
      ]
    },
    {
      "cell_type": "code",
      "execution_count": null,
      "metadata": {},
      "outputs": [],
      "source": [
        "def bit_count(n):\n",
        "    count = 0\n",
        "    while n > 0:\n",
        "        count += n & 1  # 마지막 비트 확인\n",
        "        n >>= 1  # 오른쪽으로 1비트 이동\n",
        "    return count\n",
        "\n",
        "print(bit_count(15))  # 출력: 4 (2진수 1111)\n",
        "\n",
        "#시간복잡도 계산 결과\n",
        "#T(n)=O(logn)"
      ]
    }
  ],
  "metadata": {
    "colab": {
      "provenance": []
    },
    "kernelspec": {
      "display_name": "base",
      "language": "python",
      "name": "python3"
    },
    "language_info": {
      "codemirror_mode": {
        "name": "ipython",
        "version": 3
      },
      "file_extension": ".py",
      "mimetype": "text/x-python",
      "name": "python",
      "nbconvert_exporter": "python",
      "pygments_lexer": "ipython3",
      "version": "3.9.7"
    }
  },
  "nbformat": 4,
  "nbformat_minor": 0
}
