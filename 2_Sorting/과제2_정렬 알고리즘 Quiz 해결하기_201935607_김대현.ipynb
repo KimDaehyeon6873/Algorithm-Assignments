{
  "cells": [
    {
      "cell_type": "markdown",
      "metadata": {
        "id": "GdO0MJ8f2y49"
      },
      "source": [
        "# 정렬 알고리즘 *Quiz*"
      ]
    },
    {
      "cell_type": "markdown",
      "metadata": {
        "id": "9M9TjfkP22Nx"
      },
      "source": [
        "\n",
        "\n",
        "---\n",
        "\n"
      ]
    },
    {
      "cell_type": "markdown",
      "metadata": {
        "id": "ZvduXshFMMsd"
      },
      "source": [
        "### ✅ Q1. Insertion_sort와 Merge_sort 수행 시간 조건에 맞는 적절한 n값은?\n",
        "동일한 기계에서 삽입정렬과 병합 정렬의 구현 결과를 비교한다고 가정하자. n개의 입력에 대해 삽입 정렬은 $8n^2$번을, 병합 정렬은 $64nlogn$번을 계산하고 각각 종료한다. n값이 얼마일 때까지 삽입 정렬이 병합 정렬보다 빠를까? <br> (단, 파이썬 코드로 확인시 $logn$은 $log_2$로 계산 가능)\n"
      ]
    },
    {
      "cell_type": "markdown",
      "metadata": {
        "id": "CkWEWep9MkT4"
      },
      "source": [
        "**[Solution]** :\n",
        "- n은 양의 정수, $8n^2<64nlogn$ 을 만족하는 최대 n을 구하기.\n",
        "$$8n^2<64nlog_2{n}$$\n",
        "$$n<8log_2{n}$$\n",
        "\n",
        "수식을 만족하는 값을 찾기 위해 while문을 사용하였을 때 n=1인 경우 로그함수의 성질로 인해 $8log_2{n}=0$이 되어 부등식을 만족하지 않아 반복문을 빠져나온다. 따라서, n=2부터 설정한다.  \n",
        "또한, 1개의 요소를 정렬하는 것은 의미가 없다는 문제도 존재한다. "
      ]
    },
    {
      "cell_type": "code",
      "execution_count": 1,
      "metadata": {
        "id": "V3ckfuT2CxTY"
      },
      "outputs": [
        {
          "name": "stdout",
          "output_type": "stream",
          "text": [
            "삽입 정렬이 병합 정렬보다 빠른 최대 n 값은: 43\n"
          ]
        },
        {
          "data": {
            "image/png": "[encoded data removed]",
            "text/plain": [
              "<Figure size 720x432 with 1 Axes>"
            ]
          },
          "metadata": {
            "needs_background": "light"
          },
          "output_type": "display_data"
        }
      ],
      "source": [
        "import math\n",
        "\n",
        "def find_max_n():\n",
        "\n",
        "    n = 2  # 초기값을 2로 설정 (정수)\n",
        "    while n < 8 * math.log2(n):\n",
        "        n += 1\n",
        "    return n - 1  # n이 조건을 만족하는 최대값(정수)을 반환\n",
        "\n",
        "\n",
        "min_n = find_max_n()\n",
        "print(f\"삽입 정렬이 병합 정렬보다 빠른 최대 n 값은: {min_n}\")\n",
        "\n",
        "\n",
        "#그래프를 통해서 알아보기\n",
        "import matplotlib.pyplot as plt\n",
        "import numpy as np\n",
        "import matplotlib.pyplot as plt\n",
        "plt.rcParams['font.family'] = 'Malgun Gothic' \n",
        "\n",
        "n_values = np.arange(1, 60, 1)\n",
        "n_line = n_values\n",
        "log_line = 8 * np.log2(n_values)\n",
        "\n",
        "plt.figure(figsize=(10, 6))\n",
        "plt.plot(n_values, n_line, label='y = n', color='blue')\n",
        "plt.plot(n_values, log_line, label='y = 8 * log₂(n)', color='red')\n",
        "\n",
        "# 최대 n 표시\n",
        "min_n = find_max_n()  # 이미 구해둔 값\n",
        "plt.axvline(x=min_n, color='green', linestyle='--', label=f'교차점 n = {min_n}')\n",
        "plt.text(min_n + 1, min_n, f'n = {min_n}', color='green')\n",
        "\n",
        "plt.ylim(bottom=0, top=80)\n",
        "plt.xticks(np.arange(1, 60, 5)) \n",
        "\n",
        "\n",
        "plt.title('n과 8log₂(n)의 관계 비교')\n",
        "plt.xlabel('입력 크기 n')\n",
        "plt.ylabel('값')\n",
        "plt.legend()\n",
        "plt.grid(True)\n",
        "plt.show()"
      ]
    },
    {
      "cell_type": "markdown",
      "metadata": {
        "id": "dUDMJShYPMrT"
      },
      "source": [
        "**결론**\n",
        "- $\\textit{삽입 정렬이 병합 정렬보다 빠른 최대 n 값은: 43}$"
      ]
    },
    {
      "cell_type": "markdown",
      "metadata": {
        "id": "SAJ40CvkJcCz"
      },
      "source": [
        "\n",
        "\n",
        "---\n",
        "\n"
      ]
    },
    {
      "cell_type": "markdown",
      "metadata": {
        "id": "fE3URhxGJdwd"
      },
      "source": [
        "### ✅ Q2. 수행시간 조건에 맞는 n의 최솟값은?\n",
        "동일한 기계에서 수행 시간이 $100n^2$인 알고리즘이 수행 시간이 $2^n$인 알고리즘보다 빨라지는 n의 최솟값은 얼마인가?"
      ]
    },
    {
      "cell_type": "markdown",
      "metadata": {
        "id": "S0Jk5hjJKBsk"
      },
      "source": [
        "**[Solution]** :\n",
        "- Q1과 동일하게 $100n^2 < 2^n$ 이 되는 값을 반복문을 통해 n값을 증가시키며 찾을 수 있다.\n"
      ]
    },
    {
      "cell_type": "code",
      "execution_count": 3,
      "metadata": {
        "id": "4uK7ob5uJ90P"
      },
      "outputs": [
        {
          "name": "stdout",
          "output_type": "stream",
          "text": [
            "100n² < 2ⁿ이 처음 성립하는 최소 n 값은: 15\n"
          ]
        },
        {
          "data": {
            "image/png": "[encoded data removed]",
            "text/plain": [
              "<Figure size 720x432 with 1 Axes>"
            ]
          },
          "metadata": {
            "needs_background": "light"
          },
          "output_type": "display_data"
        }
      ],
      "source": [
        "def find_min_n_for_faster_exponential():\n",
        "\n",
        "    n = 1\n",
        "    while 100*n**2 >= 2**n:\n",
        "        n += 1\n",
        "    return n \n",
        "\n",
        "min_n = find_min_n_for_faster_exponential()\n",
        "print(f\"100n² < 2ⁿ이 처음 성립하는 최소 n 값은: {min_n}\")\n",
        "\n",
        "#그래프를 통해서 알아보기\n",
        "import matplotlib.pyplot as plt\n",
        "import numpy as np\n",
        "import matplotlib.pyplot as plt\n",
        "plt.rcParams['font.family'] = 'Malgun Gothic' \n",
        "\n",
        "n_values = np.arange(1, 20, 1)\n",
        "leftFunc = 100*n_values**2\n",
        "rightFunc = 2**n_values\n",
        "\n",
        "plt.figure(figsize=(10, 6))\n",
        "plt.plot(n_values, leftFunc, label='y = 100n²', color='blue')\n",
        "plt.plot(n_values, rightFunc, label='y = 2ⁿ', color='red')\n",
        "\n",
        "# 최소 n 표시\n",
        "min_n = find_min_n_for_faster_exponential()  # 이미 구해둔 값\n",
        "plt.axvline(x=min_n, color='green', linestyle='--', label=f'교차점 n = {min_n}')\n",
        "plt.text(min_n + 1, min_n, f'n = {min_n}', color='green')\n",
        "\n",
        "plt.ylim(bottom=0, top=1e5)\n",
        "plt.xticks(np.arange(1, 20, 1))  # 1부터 30까지 1 간격으로 x축 눈금 설정\n",
        "\n",
        "\n",
        "plt.title('100n² 과 2ⁿ의 관계 비교')\n",
        "plt.xlabel('입력 크기 n')\n",
        "plt.ylabel('값')\n",
        "plt.legend()\n",
        "plt.grid(True)\n",
        "plt.show()\n"
      ]
    },
    {
      "cell_type": "markdown",
      "metadata": {
        "id": "JN4bKvvUmIMK"
      },
      "source": [
        "**결론**\n",
        "- $\\textit{100n² < 2ⁿ이 처음 성립하는 최소 n 값은: 15}$"
      ]
    },
    {
      "cell_type": "markdown",
      "metadata": {
        "id": "AQHZDlRkRoDE"
      },
      "source": [
        "\n",
        "\n",
        "---\n",
        "\n"
      ]
    },
    {
      "cell_type": "markdown",
      "metadata": {
        "id": "3zlsEaUZRqOX"
      },
      "source": [
        "### ✅ Q3. 배열의 최대힙(Max-heap) 판단?\n",
        "배열 [33,19,20,15,13,10,2,13,16,12]는 최대힙인가?\n",
        "\n",
        "#### 최대 힙(Max-heap)이란?\n",
        "- 완전 이진 트리의 한 종류로 다음 조건을 만족한다\n",
        "    - 완전 이진 트리: 왼쪽부터 차곡차곡 채워져 있는 이진 트리\n",
        "    - 힙 속성: 부모노드 >= 자식노드 (루트노드가 가장 큼)\n",
        "\n",
        "ex)  \n",
        "[50, 30, 40, 10, 20, 35, 25]  \n",
        "  0   1   2   3   4   5   6 -> 배열 인덱스  \n",
        "\n",
        "부모 인덱스 : i  \n",
        "왼쪽 자식 : 2i + 1  \n",
        "오른쪽 자식 : 2i +2  \n",
        "\n",
        "따라서 해당 예시의 배열은 최대 힙이다. \n",
        "- for문에서 range를 n//2 (정수 나눗셈)으로 설정한 이유\n",
        "    - range는 정수를 받아야 함\n",
        "    - 자식이 있는 부모까지만 검사하면 되기 때문"
      ]
    },
    {
      "cell_type": "code",
      "execution_count": 4,
      "metadata": {
        "id": "FnwVQS2aTEhi"
      },
      "outputs": [
        {
          "name": "stdout",
          "output_type": "stream",
          "text": [
            "이 배열은 최대 힙이 아닙니다. ❌\n"
          ]
        }
      ],
      "source": [
        "def is_max_heap(arr):\n",
        "    n = len(arr) #n은 실제 배열 요소의 개수\n",
        "    for i in range(n//2):\n",
        "        left = 2 * i + 1\n",
        "        right = 2 * i + 2\n",
        "\n",
        "        if left < n and arr[i] < arr[left]:\n",
        "            return False\n",
        "        if right < n and arr[i] < arr[right]:\n",
        "            return False\n",
        "    return True\n",
        "\n",
        "# 테스트 배열\n",
        "A = [33, 19, 20, 15, 13, 10, 2, 13, 16, 12]\n",
        "\n",
        "if is_max_heap(A):\n",
        "    print(\"이 배열은 최대 힙입니다. ⭕\")\n",
        "else:\n",
        "    print(\"이 배열은 최대 힙이 아닙니다. ❌\")\n"
      ]
    },
    {
      "cell_type": "markdown",
      "metadata": {
        "id": "AKUTWbWFmNYd"
      },
      "source": [
        "**결론**\n",
        "- $\\textit{이 배열은 최대 힙이 아닙니다. ❌}$"
      ]
    },
    {
      "cell_type": "markdown",
      "metadata": {
        "id": "vhMiLVeZWVrE"
      },
      "source": [
        "\n",
        "\n",
        "---\n",
        "\n"
      ]
    },
    {
      "cell_type": "markdown",
      "metadata": {
        "id": "R-TTyy5NWWkI"
      },
      "source": [
        "### ✅ Q4. Insertion sort vs Quick sort 비교하기\n",
        "은행은 주로 계좌의 거래 내역을 거래 시간 순으로 기록하지만 많은 사람이 수표가 번호순으로 되어 있는 고객 내역서를 받고 싶어한다. 사람들은 보통 수표를 수표 번호순으로 사용하고 상인들은 비교적 신속하게 이를 현금화한다. 따라서 거래 시간 순서를 수표 번호 순서로 바꾸는 문제는 거의 정렬된 입력을 정렬하는 문제다. Insertion sort가 Quick sort보다 이 문제를 잘 풀지를 논하라."
      ]
    },
    {
      "cell_type": "markdown",
      "metadata": {
        "id": "vDygrNPyYl-r"
      },
      "source": [
        "**[Solution]** :"
      ]
    },
    {
      "cell_type": "code",
      "execution_count": 5,
      "metadata": {},
      "outputs": [
        {
          "name": "stdout",
          "output_type": "stream",
          "text": [
            "Insertion Sort 평균 시간: 5.4599 ms\n",
            "Quick Sort 평균 시간:     66.6670 ms\n"
          ]
        }
      ],
      "source": [
        "# 16자리의 임의의 숫자로 시작하고 해당 숫자에서 연속된 1000개의 숫자를 생성\n",
        "# 그 중 마지막 50개를 중간에 넣은 '거의 정렬된 입력'을 생성\n",
        "\n",
        "import random\n",
        "import time\n",
        "\n",
        "def generate_almost_sorted_input():\n",
        "    # 1. 16자리 임의 숫자 생성\n",
        "    start = random.randint(10**15, 10**16 - 1000)  # 1000개 확보 위해 -1000\n",
        "\n",
        "    # 2. 연속된 1000개의 정수 생성\n",
        "    data = list(range(start, start + 1000))\n",
        "\n",
        "    # 3. 마지막 50개 추출\n",
        "    last_50 = data[-50:]\n",
        "\n",
        "    # 4. 중간에 삽입 (예: 500번째 인덱스에 삽입)\n",
        "    del data[-50:]  # 마지막 50개 제거\n",
        "    insert_index = len(data) // 2\n",
        "    for i, val in enumerate(last_50):\n",
        "        data.insert(insert_index + i, val)\n",
        "\n",
        "    return data\n",
        "almost_sorted = generate_almost_sorted_input()\n",
        "\n",
        "# Insertion sort 함수\n",
        "def insertion_sort(arr):\n",
        "    for i in range(1, len(arr)):\n",
        "        key = arr[i]\n",
        "        j = i-1\n",
        "        while j >= 0 and key < arr[j]:\n",
        "            arr[j+1] = arr[j]\n",
        "            j -= 1\n",
        "        arr[j+1] = key    # 정렬된 배열 다음 위치에 추가\n",
        "    return arr\n",
        "\n",
        "# Quick sort 함수\n",
        "def quick_sort(arr):\n",
        "    # 기본 조건: 배열이 길이 1 이하이면 이미 정렬된 상태\n",
        "    if len(arr) <= 1:\n",
        "        return arr\n",
        "\n",
        "    pivot = arr[0]  # 첫 번째 요소를 피벗으로 선택 또는 중앙값(arr[len(arr) // 2])\n",
        "    left = [x for x in arr[1:] if x < pivot]   # 피벗보다 작은 값들\n",
        "    right = [x for x in arr[1:] if x >= pivot] # 피벗보다 크거나 같은 값들\n",
        "\n",
        "    # 재귀적으로 정렬한 결과를 결합\n",
        "    return quick_sort(left) + [pivot] + quick_sort(right)\n",
        "\n",
        "# 100회 실행하여 평균 실행시간 측정 함수\n",
        "def time_it(func, data, repeat=100):\n",
        "    times = []\n",
        "    for _ in range(repeat):\n",
        "        copied = data.copy()\n",
        "        start = time.perf_counter()\n",
        "        func(copied)\n",
        "        end = time.perf_counter()\n",
        "        times.append(end - start)\n",
        "    return sum(times) / repeat\n",
        "\n",
        "\n",
        "insertion_time = time_it(insertion_sort, almost_sorted)\n",
        "quick_time = time_it(quick_sort, almost_sorted)\n",
        "\n",
        "print(f\"Insertion Sort 평균 시간: {insertion_time * 1000:.4f} ms\")\n",
        "print(f\"Quick Sort 평균 시간:     {quick_time * 1000:.4f} ms\")\n"
      ]
    },
    {
      "cell_type": "markdown",
      "metadata": {
        "id": "_Bmc00qNYnlN"
      },
      "source": [
        "|상황|Insertion Sort|Quick Sort|\n",
        "|--|--|--|\n",
        "|거의 정렬된 입력 (수표 번호 등) :|✅ 매우 효율적(시간 복잡도 O(n)) 거의 이동이 없음|❌ 평균 O(n log n) 최악 시 O(n²)|\n",
        "|랜덤한/뒤죽박죽 입력 : |❌ 느림 (O(n²))|✅ 빠름 (O(n log n) 평균)|\n",
        "|추가 최적화 없이 단순 구현 : |✅ 매우 간단|✅ 조금 복잡한 재귀 및 분할 필요|\n",
        "|공간 복잡도 : |✅ O(1) (제자리 정렬)|❌ O(log n) ~ O(n) (스택 사용)|\n",
        "\n"
      ]
    },
    {
      "cell_type": "markdown",
      "metadata": {},
      "source": [
        "- 거의 정렬된 입력을 정렬하는 문제에서 Quick sort를 최적화하는 방법\n",
        "    - 중간값 피벗 (median-of-three): 배열의 첫, 중간, 마지막 요소 중 중간 값을 피벗으로 선택\n",
        "    - 랜덤 피벗: 피벗을 무작위로 선택해 편향된 입력에도 성능 유지\n",
        "    - 하이브리드 정렬(예: Timsort): 입력이 거의 정렬돼 있으면 Insertion Sort를 사용"
      ]
    },
    {
      "cell_type": "markdown",
      "metadata": {
        "id": "bigGujzwZ2X1"
      },
      "source": [
        "**결론**\n",
        "- $\\textit{Insertion Sort가 Quick Sort보다 해당 문제를 해결하는데에 적합하다.}$"
      ]
    },
    {
      "cell_type": "markdown",
      "metadata": {
        "id": "DMt-BuCgbaWm"
      },
      "source": [
        "\n",
        "\n",
        "---\n",
        "\n"
      ]
    },
    {
      "cell_type": "markdown",
      "metadata": {
        "id": "SkesiuqwbbBZ"
      },
      "source": [
        "### ✅ Q5. 단어 목록 Radix-sort 정렬하기\n",
        "다음 영어 단어 목록을 Radix-sort 정렬 알고리즘으로 정렬하여라.\n",
        "<br> 단어 목록 : [COW, DOG, SEA, RUG, ROW, MOB, BOX, TAB, BAR, EAR, TAR, DIG, BIG, TEA, NOW, FOX]"
      ]
    },
    {
      "cell_type": "markdown",
      "metadata": {},
      "source": [
        "#### **<radix sort를 구현한 방법>**  \n",
        "**radix_sort_strings()**\n",
        "- 문자열의 가장 마지막 자리에서 시작까지 counting_sort_by_char()를 반복한다. \n",
        "- pos =  position(자리수)\n",
        "    - 문자열의 어느 자리를 기준으로 정렬할지 가리킨다. \n",
        "\n",
        "**counting_sort_by_char()**  \n",
        "- 해당 알파벳이 몇번 등장했는지 세기\n",
        "    1. 각 문자가 몇번 등장했는지 확인하기 위해서 count 배열을 알파벳 개수만큼 선언한다. \n",
        "    2. A 문자열의 각 요소를 순회하며 i번째 요소 -> 해당 요소의 pos번째 문자에 접근\n",
        "    3. index 변수는 ord()를 통해 문자->아스키 변환 후 배열에 직접적으로 적용하기 위해 A를 0에 맞춰 인덱싱\n",
        "    4. count 배열의 index번째 요소의 값 증가\n",
        "\n",
        "- 누적합을 통해 각 문자가 배열 내에서 **몇 번째 위치에 들어갈지**를 계산한다.\n",
        "- 이 정보는 자리 예약표처럼 동작하며, count[index] -= 1을 통해 실제 인덱스를 정하고,\n",
        "- 그 위치에 해당 문자열을 배치함으로써 정렬을 완성한다.\n",
        "- 이 과정을 뒤에서부터 진행하는 이유는 **정렬의 안정성**을 유지하기 위함이다."
      ]
    },
    {
      "cell_type": "code",
      "execution_count": 2,
      "metadata": {},
      "outputs": [
        {
          "name": "stdout",
          "output_type": "stream",
          "text": [
            "['BAR', 'BIG', 'BOX', 'COW', 'DIG', 'DOG', 'EAR', 'FOX', 'MOB', 'NOW', 'ROW', 'RUG', 'SEA', 'TAB', 'TAR', 'TEA']\n"
          ]
        }
      ],
      "source": [
        "def radix_sort_strings(A, n):\n",
        "        for pos in range(n-1, -1, -1):\n",
        "              A = counting_sort_by_char(A, pos) #제일 뒤 문자부터 정렬하고 첫번째 문자까지 정렬 \n",
        "        return A\n",
        "\n",
        "def counting_sort_by_char(A, pos):\n",
        "        n = len(A)\n",
        "        output = [0] * n\n",
        "        count = [0] * 26 # 알파벳 개수만큼 배열 만들기\n",
        "        for i in range(len(A)): # A 문자열 배열의 각 요소를 순회\n",
        "                ch = A[i][pos] # A 배열의 i번째 요소 접근해 pos번째 문자에 접근\n",
        "                index = ord(ch) - ord('A') #ord를 통해 문자->아스키 변환 후 A를 0으로 맞춰서 인덱스 (0~25)\n",
        "                count[index] += 1 # 해당 문자에 해당하는 인덱스를 1 증가\n",
        "\n",
        "        for i in range(1, 26): #누적합: i번째 이전까지 몇 개 있었는지를 누적하여 더함\n",
        "                count[i] += count[i-1]\n",
        "\n",
        "        i = n - 1 \n",
        "        while i >= 0:\n",
        "                ch = A[i][pos]\n",
        "                index = ord(ch) - ord('A')\n",
        "                # 누적합으로 각 문자마다 어디에 몇 개가 위치되어야 하는지 알고 있지만 1부터 시작하므로(배열은 0부터) 1을 빼준다.\n",
        "                count[index] -= 1 \n",
        "                output[count[index]] = A[i]\n",
        "                i -= 1\n",
        "\n",
        "        # output을 반환!\n",
        "        return output\n",
        "\n",
        "# 테스트\n",
        "data = [\"COW\", \"DOG\", \"SEA\", \"RUG\", \"ROW\", \"MOB\", \"BOX\", \"TAB\",\n",
        "        \"BAR\", \"EAR\", \"TAR\", \"DIG\", \"BIG\", \"TEA\", \"NOW\", \"FOX\"]\n",
        "\n",
        "data = radix_sort_strings(data, 3)\n",
        "print(data)"
      ]
    },
    {
      "cell_type": "code",
      "execution_count": 11,
      "metadata": {},
      "outputs": [
        {
          "name": "stdout",
          "output_type": "stream",
          "text": [
            "['BAR', 'BIG', 'BOX', 'COW', 'DIG', 'DOG', 'EAR', 'FOX', 'MOB', 'NOW', 'ROW', 'RUG', 'SEA', 'TAB', 'TAR', 'TEA']\n"
          ]
        }
      ],
      "source": [
        "# 한 개의 함수로 합쳐도 동작하는데에 문제가 없음.\n",
        "\n",
        "def radix_sort_strings(A, n):\n",
        "    for pos in range(n-1, -1, -1):\n",
        "        n = len(A)\n",
        "        output = [0] * n\n",
        "        count = [0] * 26 # 알파벳 개수만큼 배열 만들기\n",
        "        for i in range(len(A)): # A 문자열 배열의 각 요소를 순회\n",
        "            ch = A[i][pos] # A 배열의 i번째 요소 접근해 pos번째 문자에 접근\n",
        "            index = ord(ch) - ord('A') #ord를 통해 문자->아스키 변환 후 A를 0으로 맞춰서 인덱스 (0~25)\n",
        "            count[index] += 1 # 해당 문자에 해당하는 인덱스를 1 증가\n",
        "\n",
        "        for i in range(1, 26): #누적합: i번째 이전까지 몇 개 있었는지를 누적하여 더함\n",
        "            count[i] += count[i-1]\n",
        "\n",
        "        i = n - 1 \n",
        "        while i >= 0:\n",
        "            ch = A[i][pos]\n",
        "            index = ord(ch) - ord('A')\n",
        "            # 누적합으로 각 문자마다 어디에 몇 개가 위치되어야 하는지 알고 있지만 1부터 시작하므로(배열은 0부터) 1을 빼준다.\n",
        "            count[index] -= 1 \n",
        "            output[count[index]] = A[i]\n",
        "            i -= 1\n",
        "        A = output\n",
        "    return A\n",
        "# 테스트\n",
        "data = [\"COW\", \"DOG\", \"SEA\", \"RUG\", \"ROW\", \"MOB\", \"BOX\", \"TAB\",\n",
        "        \"BAR\", \"EAR\", \"TAR\", \"DIG\", \"BIG\", \"TEA\", \"NOW\", \"FOX\"]\n",
        "\n",
        "data = radix_sort_strings(data, 3)\n",
        "print(data)"
      ]
    },
    {
      "cell_type": "markdown",
      "metadata": {
        "id": "H4GQJXHUmmZk"
      },
      "source": [
        "**결론**\n",
        "- Radix-sort 정렬 결과:   $\\textit{['BAR', 'BIG', 'BOX', 'COW', 'DIG', 'DOG', 'EAR', 'FOX', 'MOB', 'NOW', 'ROW', 'RUG', 'SEA', 'TAB', 'TAR', 'TEA']}$"
      ]
    },
    {
      "cell_type": "markdown",
      "metadata": {
        "id": "y-o_9Zphmwy-"
      },
      "source": [
        "\n",
        "\n",
        "---\n",
        "\n"
      ]
    }
  ],
  "metadata": {
    "colab": {
      "provenance": []
    },
    "kernelspec": {
      "display_name": "base",
      "language": "python",
      "name": "python3"
    },
    "language_info": {
      "codemirror_mode": {
        "name": "ipython",
        "version": 3
      },
      "file_extension": ".py",
      "mimetype": "text/x-python",
      "name": "python",
      "nbconvert_exporter": "python",
      "pygments_lexer": "ipython3",
      "version": "3.9.7"
    }
  },
  "nbformat": 4,
  "nbformat_minor": 0
}
